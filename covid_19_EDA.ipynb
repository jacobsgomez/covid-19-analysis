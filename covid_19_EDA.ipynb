{
  "nbformat": 4,
  "nbformat_minor": 0,
  "metadata": {
    "colab": {
      "name": "covid-19 EDA",
      "provenance": [],
      "collapsed_sections": [],
      "authorship_tag": "ABX9TyPl9PXpx68d7QMRHjoDL1Pm",
      "include_colab_link": true
    },
    "kernelspec": {
      "name": "python3",
      "display_name": "Python 3"
    }
  },
  "cells": [
    {
      "cell_type": "markdown",
      "metadata": {
        "id": "view-in-github",
        "colab_type": "text"
      },
      "source": [
        "<a href=\"https://colab.research.google.com/github/jacobsgomez/covid-19-analysis/blob/master/covid_19_EDA.ipynb\" target=\"_parent\"><img src=\"https://colab.research.google.com/assets/colab-badge.svg\" alt=\"Open In Colab\"/></a>"
      ]
    },
    {
      "cell_type": "code",
      "metadata": {
        "id": "rxmfLTpDdAtA",
        "colab_type": "code",
        "colab": {}
      },
      "source": [
        "import numpy as np\n",
        "import matplotlib.pyplot as plt\n",
        "import pandas as pd\n",
        "import os\n",
        "from calendar import monthrange\n",
        "from datetime import date\n",
        "from datetime import datetime\n",
        "from pytz import timezone"
      ],
      "execution_count": 0,
      "outputs": []
    },
    {
      "cell_type": "markdown",
      "metadata": {
        "id": "1codecnSD7wg",
        "colab_type": "text"
      },
      "source": [
        "# covid-19 Analysis\n",
        "This is an personal exploratory analysis of covid-19. The objective for this notebook is to gain insight in where the virus is growing fastest and get strong visualization for communities/areas/countries impacted the most by it."
      ]
    },
    {
      "cell_type": "markdown",
      "metadata": {
        "id": "HNAr0yuDEXOp",
        "colab_type": "text"
      },
      "source": [
        "start by importing the root paths. There are 2 parent folders holding all of the data:\n",
        "1. covid-19 daily reports\n",
        "2. covid-19 time series"
      ]
    },
    {
      "cell_type": "code",
      "metadata": {
        "id": "XEUCZyIYnR0M",
        "colab_type": "code",
        "colab": {}
      },
      "source": [
        "### ROOT_URL - 'https://github.com/CSSEGISandData/COVID-19/tree/master' ###\n",
        "\n",
        "# can navigate to daily_reports or time_series from this path\n",
        "RAW_DATA_URL = 'https://raw.githubusercontent.com/CSSEGISandData/COVID-19/master/csse_covid_19_data'\n",
        "\n",
        "daily_reports_path = os.path.join(RAW_DATA_URL, 'csse_covid_19_daily_reports') # contain dates in format %dd - dd - year\n",
        "time_series_root = os.path.join(RAW_DATA_URL, 'csse_covid_19_time_series')"
      ],
      "execution_count": 0,
      "outputs": []
    },
    {
      "cell_type": "code",
      "metadata": {
        "id": "Wq1E1ltom2_5",
        "colab_type": "code",
        "colab": {}
      },
      "source": [
        "def get_days_in_months(year, current_month):\n",
        "    ''' retrieves days in every month prior to (and including) current month '''\n",
        "    days_in_month = []\n",
        "    for month in np.arange(1, current_month+1):\n",
        "        days_in_month.append(monthrange(year, month)[1]) # append second element of monthrange function (days in month)\n",
        "    return days_in_month\n",
        "\n",
        "def format_date(month, day, year, delim='-'):\n",
        "    return '{}{}{}{}{}'.format(str(month).zfill(2), delim, str(day).zfill(2), delim, str(year).zfill(4))"
      ],
      "execution_count": 0,
      "outputs": []
    },
    {
      "cell_type": "code",
      "metadata": {
        "id": "A88ZLOtM5FCR",
        "colab_type": "code",
        "colab": {}
      },
      "source": [
        "format_date(4, 5, 2020, delim='/'), format_date(4, 5, 2020) "
      ],
      "execution_count": 0,
      "outputs": []
    },
    {
      "cell_type": "code",
      "metadata": {
        "id": "BF51Nsaz4VVU",
        "colab_type": "code",
        "colab": {}
      },
      "source": [
        "get_days_in_months(2020, 5)"
      ],
      "execution_count": 0,
      "outputs": []
    },
    {
      "cell_type": "markdown",
      "metadata": {
        "id": "3e1zdFFaBFSx",
        "colab_type": "text"
      },
      "source": [
        "# Script for importing all separate .csv files into 1 dataframe"
      ]
    },
    {
      "cell_type": "code",
      "metadata": {
        "id": "sSmP3kesCbFc",
        "colab_type": "code",
        "colab": {}
      },
      "source": [
        "current_date = datetime.now(timezone('US/Pacific'))\n",
        "current_month = current_date.month\n",
        "current_day = current_date.day\n",
        "current_year = current_date.year\n",
        "current_date_str_formatted = format_date(current_month, current_day, current_year)\n",
        "days_in_months = get_days_in_months(current_year, current_month)"
      ],
      "execution_count": 0,
      "outputs": []
    },
    {
      "cell_type": "code",
      "metadata": {
        "colab_type": "code",
        "id": "9NBbXu4l8at4",
        "colab": {}
      },
      "source": [
        "reports_df = pd.DataFrame([])\n",
        "\n",
        "month_counter = 1 # month iterator\n",
        "while month_counter <= current_month:\n",
        "    for days in days_in_months:\n",
        "        k = 1 # days iterator\n",
        "\n",
        "        if month_counter == 1:\n",
        "            k = 22 # start at 1/22 -- the first day of recorded cases\n",
        "\n",
        "        while k <= days:\n",
        "            if (month_counter == current_month and k == current_day):\n",
        "                print('Reached current day. No more information. Exiting...')\n",
        "                break\n",
        "            day_month_year_str = format_date(month_counter, k, current_year)\n",
        "            report_url = daily_reports_path + '/{}.csv'.format(day_month_year_str)\n",
        "            # print(report_url)\n",
        "            reports_df = reports_df.append(pd.read_csv(report_url, error_bad_lines=False))\n",
        "            k = k + 1\n",
        "        month_counter += 1"
      ],
      "execution_count": 0,
      "outputs": []
    },
    {
      "cell_type": "markdown",
      "metadata": {
        "id": "GksLoUbzBRQq",
        "colab_type": "text"
      },
      "source": [
        "## explore dastaset for daily reports"
      ]
    },
    {
      "cell_type": "code",
      "metadata": {
        "id": "u7cveemyBoR9",
        "colab_type": "code",
        "colab": {}
      },
      "source": [
        "reports_df.columns"
      ],
      "execution_count": 0,
      "outputs": []
    },
    {
      "cell_type": "code",
      "metadata": {
        "id": "ySmvtXsgGEGm",
        "colab_type": "code",
        "colab": {}
      },
      "source": [
        "reports_df['Confirmed']"
      ],
      "execution_count": 0,
      "outputs": []
    },
    {
      "cell_type": "markdown",
      "metadata": {
        "id": "HezcKcvlHTBP",
        "colab_type": "text"
      },
      "source": [
        "`Last Update` column has multiple formats, which prevents proper graphing. We will use `pd.to_datetime` to consolidate formats."
      ]
    },
    {
      "cell_type": "code",
      "metadata": {
        "id": "ujO3bflJG3cK",
        "colab_type": "code",
        "colab": {}
      },
      "source": [
        "reports_df['Last Update'] = pd.to_datetime(reports_df['Last Update'])"
      ],
      "execution_count": 0,
      "outputs": []
    },
    {
      "cell_type": "code",
      "metadata": {
        "id": "UVbl6PcbHLI_",
        "colab_type": "code",
        "colab": {}
      },
      "source": [
        "reports_df[['Last Update', 'Confirmed']]"
      ],
      "execution_count": 0,
      "outputs": []
    },
    {
      "cell_type": "markdown",
      "metadata": {
        "id": "PPoEPv6P1rvH",
        "colab_type": "text"
      },
      "source": [
        "After looking at the way GitHub is indexing the CSV files, it seems that indices need to be reset (to account for the CSV files previously added to the df)"
      ]
    },
    {
      "cell_type": "code",
      "metadata": {
        "id": "pfep8U6Hxof9",
        "colab_type": "code",
        "colab": {}
      },
      "source": [
        "reports_df.reset_index(inplace=True)"
      ],
      "execution_count": 0,
      "outputs": []
    },
    {
      "cell_type": "code",
      "metadata": {
        "id": "ODyF8OJP1ok1",
        "colab_type": "code",
        "colab": {}
      },
      "source": [
        "latitude, longitude = reports_df[\"Lat\"], reports_df[\"Long_\"]\n",
        "latitude.dropna(inplace=True)\n",
        "longitude.dropna(inplace=True)\n",
        "latitude.shape, longitude.shape"
      ],
      "execution_count": 0,
      "outputs": []
    },
    {
      "cell_type": "code",
      "metadata": {
        "id": "STZHWLGY2RyQ",
        "colab_type": "code",
        "colab": {}
      },
      "source": [
        "latitude.head()"
      ],
      "execution_count": 0,
      "outputs": []
    },
    {
      "cell_type": "code",
      "metadata": {
        "id": "ofU76ZON3HN2",
        "colab_type": "code",
        "colab": {}
      },
      "source": [
        "fig, ax = plt.subplots()\n",
        "reports_df.plot(kind=\"scatter\", x=\"Lat\", y=\"Long_\", alpha=0.005, figsize=(12,8))\n",
        "plt.show()"
      ],
      "execution_count": 0,
      "outputs": []
    },
    {
      "cell_type": "markdown",
      "metadata": {
        "id": "QPw-FPbOxR9-",
        "colab_type": "text"
      },
      "source": [
        "# Exploring Time Series Data"
      ]
    },
    {
      "cell_type": "code",
      "metadata": {
        "id": "bwWo3g8B4GvQ",
        "colab_type": "code",
        "colab": {}
      },
      "source": [
        "''' TIME SERIES PATHS'''\n",
        "# global time series paths\n",
        "time_series_confirmed_global = os.path.join(time_series_root, 'time_series_covid19_confirmed_global.csv')\n",
        "time_series_deaths_global = os.path.join(time_series_root, 'time_series_covid19_deaths_global.csv')\n",
        "time_series_recovered_global = os.path.join(time_series_root, 'time_series_covid19_recovered_global.csv')\n",
        "# US-only time series paths (yes, we're a special breed)\n",
        "time_series_confirmed_us = os.path.join(time_series_root, 'time_series_covid19_confirmed_US.csv')\n",
        "time_series_deaths_us = os.path.join(time_series_root, 'time_series_covid19_deaths_US.csv')"
      ],
      "execution_count": 0,
      "outputs": []
    },
    {
      "cell_type": "code",
      "metadata": {
        "id": "tVuuA46eAoUu",
        "colab_type": "code",
        "colab": {}
      },
      "source": [
        "US_confirmed = pd.read_csv(time_series_confirmed_us, error_bad_lines=False)\n",
        "US_deaths = pd.read_csv(time_series_deaths_us, error_bad_lines=False)"
      ],
      "execution_count": 0,
      "outputs": []
    },
    {
      "cell_type": "code",
      "metadata": {
        "id": "lrNh9hLADEFF",
        "colab_type": "code",
        "colab": {}
      },
      "source": [
        "US_confirmed.columns"
      ],
      "execution_count": 0,
      "outputs": []
    },
    {
      "cell_type": "markdown",
      "metadata": {
        "id": "h0Of1sGVyxI6",
        "colab_type": "text"
      },
      "source": [
        "Taken from Github Repo readme:\n",
        "> * FIPS: US only. Federal Information Processing Standards code that uniquely identifies counties within the USA.\n",
        "> * Admin2: County name. US only.\n",
        "> * Active: Active cases = total confirmed - total recovered - total deaths.\n",
        "> * [UID Lookup Logic](https://github.com/CSSEGISandData/COVID-19/blob/master/csse_covid_19_data/csse_covid_19_daily_reports/03-21-2020.csv)"
      ]
    },
    {
      "cell_type": "code",
      "metadata": {
        "id": "QPuenEgb4AXw",
        "colab_type": "code",
        "colab": {}
      },
      "source": [
        "US_confirmed.head(5)"
      ],
      "execution_count": 0,
      "outputs": []
    },
    {
      "cell_type": "markdown",
      "metadata": {
        "id": "FFT_fOkRxtjX",
        "colab_type": "text"
      },
      "source": [
        "### Creating functions to automate confirmed/death numbers by state"
      ]
    },
    {
      "cell_type": "code",
      "metadata": {
        "id": "eQ6gRg_eDGOK",
        "colab_type": "code",
        "colab": {}
      },
      "source": [
        "def get_confirmed_by_state(state):\n",
        "    return US_confirmed.loc[US_confirmed[\"Province_State\"] == str(state)]\n",
        "\n",
        "def get_deaths_by_state(state):\n",
        "    return US_deaths.loc[US_deaths['Province_State'] == str(state)]\n",
        "\n",
        "\n",
        "CA_confirmed = get_confirmed_by_state(\"California\")\n",
        "CA_deaths = get_deaths_by_state(\"California\")"
      ],
      "execution_count": 0,
      "outputs": []
    },
    {
      "cell_type": "code",
      "metadata": {
        "id": "vj1Qy6vFUt6N",
        "colab_type": "code",
        "colab": {}
      },
      "source": [
        "CA_confirmed = CA_confirmed[CA_confirmed[\"Lat\"] !=0]# remove zero-coordinate values before plotting\n",
        "CA_deaths = CA_deaths[CA_deaths[\"Lat\"] != 0]"
      ],
      "execution_count": 0,
      "outputs": []
    },
    {
      "cell_type": "code",
      "metadata": {
        "id": "eW41FEtFXdUV",
        "colab_type": "code",
        "colab": {}
      },
      "source": [
        "CA_confirmed.plot(x='Lat', y='Long_', kind='scatter', c=CA_confirmed.iloc[:, -1], s=CA_confirmed.iloc[:, -1]/80, cmap=plt.get_cmap('jet'), \\\n",
        "                  figsize=(14,6), label=\"County\")\n",
        "plt.legend()\n"
      ],
      "execution_count": 0,
      "outputs": []
    },
    {
      "cell_type": "code",
      "metadata": {
        "id": "5TWqJrxuYc8e",
        "colab_type": "code",
        "colab": {}
      },
      "source": [
        "def get_confirmed_by_date_and_state(state, date):\n",
        "    '''date formatted as xx/yy/zz'''\n",
        "    state = get_confirmed_by_state(str(state))\n",
        "    confirmed = state[str(date)].sum()\n",
        "    return confirmed"
      ],
      "execution_count": 0,
      "outputs": []
    },
    {
      "cell_type": "code",
      "metadata": {
        "id": "kcoxHSPIbsIZ",
        "colab_type": "code",
        "colab": {}
      },
      "source": [
        "get_confirmed_by_date_and_state('California', '5/21/20')"
      ],
      "execution_count": 0,
      "outputs": []
    },
    {
      "cell_type": "code",
      "metadata": {
        "id": "RSQoruXxccwM",
        "colab_type": "code",
        "colab": {}
      },
      "source": [
        "total_daily_confirmed = CA_confirmed.loc[:, \"1/22/20\":].sum(axis=0) # sum by row\n",
        "total_daily_deaths = CA_deaths.loc[:, \"1/22/20\":].sum(axis=0)\n",
        "\n",
        "col_dates = CA_confirmed.columns.values[11:]"
      ],
      "execution_count": 0,
      "outputs": []
    },
    {
      "cell_type": "code",
      "metadata": {
        "id": "Oh0-tEw3lKIh",
        "colab_type": "code",
        "colab": {}
      },
      "source": [
        "fig = plt.figure(figsize=(14,7), dpi=300)\n",
        "ax = fig.add_subplot(1,1,1)\n",
        "ax.tick_params(axis='y', colors='white')\n",
        "ax.tick_params(axis='x', colors='white')\n",
        "ax.yaxis.grid(True)\n",
        "ax.set_title(label=\"California covid-19\", color='white')\n",
        "ax.set_facecolor((0.98, 0.98, 0.98))\n",
        "# plt.grid()\n",
        "plt.rc('grid', linestyle=\"-\", color=(0.8, 0.8, 0.8))\n",
        "\n",
        "confirmed_to_date = get_confirmed_by_date_and_state('California', '5/21/20')\n",
        "plt.plot(col_dates, total_daily_confirmed, c=(212/255, 160/255, 65/255), label='Confirmed Cases')\n",
        "plt.plot(col_dates, total_daily_deaths, label='Confirmed Deaths')\n",
        "plt.title(\"California covid-19\")\n",
        "plt.legend(frameon=False)\n",
        "plt.text(0.3, 78000, 'Confirmed Cases: ' + str(confirmed_to_date))\n",
        "plt.show()"
      ],
      "execution_count": 0,
      "outputs": []
    },
    {
      "cell_type": "code",
      "metadata": {
        "id": "uYLUDYpdlLUc",
        "colab_type": "code",
        "colab": {}
      },
      "source": [
        ""
      ],
      "execution_count": 0,
      "outputs": []
    }
  ]
}